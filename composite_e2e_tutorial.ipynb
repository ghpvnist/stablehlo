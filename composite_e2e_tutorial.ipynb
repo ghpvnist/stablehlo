{
  "nbformat": 4,
  "nbformat_minor": 0,
  "metadata": {
    "colab": {
      "provenance": [],
      "authorship_tag": "ABX9TyMXKakvDBUIEvdp3yVhkTMs",
      "include_colab_link": true
    },
    "kernelspec": {
      "name": "python3",
      "display_name": "Python 3"
    },
    "language_info": {
      "name": "python"
    }
  },
  "cells": [
    {
      "cell_type": "markdown",
      "metadata": {
        "id": "view-in-github",
        "colab_type": "text"
      },
      "source": [
        "<a href=\"https://colab.research.google.com/github/ghpvnist/stablehlo/blob/tutorial/composite_e2e_tutorial.ipynb\" target=\"_parent\"><img src=\"https://colab.research.google.com/assets/colab-badge.svg\" alt=\"Open In Colab\"/></a>"
      ]
    },
    {
      "cell_type": "markdown",
      "source": [
        "# The StableHLO Composite Primitive"
      ],
      "metadata": {
        "id": "JgNIVU5J-UXH"
      }
    },
    {
      "cell_type": "code",
      "execution_count": 1,
      "metadata": {
        "id": "1Ep9hywYL4Ta",
        "cellView": "form"
      },
      "outputs": [],
      "source": [
        "# @title Hidden\n",
        "%%capture\n",
        "'''\n",
        "Disclaimer:\n",
        "\n",
        "There is an official LAX API coming soon. This is a POC implementation to show\n",
        "what it would look like.\n",
        "'''\n",
        "\n",
        "import jax\n",
        "\n",
        "from jax import api_util\n",
        "from jax import lax\n",
        "from jax import tree_util\n",
        "from jax._src import core as jax_core\n",
        "from jax._src import linear_util as lu\n",
        "from jax._src.lib.mlir import ir\n",
        "from jax._src.lib.mlir import passmanager as pm\n",
        "from jax._src.lib.mlir.dialects import hlo as stablehlo\n",
        "from jax.interpreters import mlir\n",
        "\n",
        "\n",
        "composite_p = jax_core.CallPrimitive('composite')\n",
        "def _composite_impl(f, *args, **_):\n",
        "  with jax_core.new_sublevel():\n",
        "    return f.call_wrapped(*args)\n",
        "composite_p.def_impl(_composite_impl)\n",
        "\n",
        "\n",
        "def _composite_lax_impl(f, *args, name: str, attributes: dict = {}, **kwargs):\n",
        "  fun = lu.wrap_init(f, kwargs)\n",
        "  flat_args, in_tree = tree_util.tree_flatten(args)\n",
        "  flat_fun, out_tree = api_util.flatten_fun_nokwargs(fun, in_tree)\n",
        "  out_flat = composite_p.bind(\n",
        "      flat_fun,\n",
        "      *flat_args,\n",
        "      name=name,\n",
        "      attributes=attributes)\n",
        "  return tree_util.tree_unflatten(out_tree(), out_flat)\n",
        "\n",
        "# Make custom_call which calls the implementation function\n",
        "# Currently this leaks a CallOp since we're using the `core_call_lowering`\n",
        "# function, but this should get cleaned up by DCE easily.\n",
        "def _composite_stablehlo_lowering(ctx, *args, name, call_jaxpr, attributes, **kwargs):\n",
        "  impl = mlir.core_call_lowering(\n",
        "      ctx,\n",
        "      *args,\n",
        "      name=name+\".impl\",\n",
        "      call_jaxpr=call_jaxpr)\n",
        "  # print(impl)\n",
        "  # print(call_op = impl[0].owner)\n",
        "  call_op = impl[0].owner\n",
        "  # call_op = impl[0][0].owner\n",
        "  called_fn = call_op.attributes['callee']\n",
        "\n",
        "  composite = stablehlo.CompositeOp(\n",
        "    [r.type for r in call_op.results],\n",
        "    call_op.operands,\n",
        "    name=ir.StringAttr.get(name),\n",
        "    composite_attributes=ir.DictAttr.get(attributes),\n",
        "    decomposition=called_fn,\n",
        "  )\n",
        "  return composite.results\n",
        "\n",
        "## Helper function to inline module to get rid of all the extra function calls.\n",
        "## Not necessary, but makes it easier to view the composite's IR.\n",
        "def _inline_ir(m_original: ir.Module) -> bytes:\n",
        "  with m_original.context:\n",
        "    m = m_original.operation.clone()\n",
        "    passes = pm.PassManager.parse(\"builtin.module(inline)\")\n",
        "    passes.run(m.operation)\n",
        "    return m\n",
        "\n",
        "mlir.register_lowering(composite_p, _composite_stablehlo_lowering)"
      ]
    },
    {
      "cell_type": "markdown",
      "source": [
        "# Experimental Composite API"
      ],
      "metadata": {
        "id": "vcc5dR8Hkk61"
      }
    },
    {
      "cell_type": "code",
      "source": [
        "# Official LAX API coming soon...\n",
        "def composite(*args, name, decomposition, attributes = {}):\n",
        "  return _composite_lax_impl(decomposition, *args, name=name, attributes=attributes)\n",
        "\n",
        "# Hack to mimic said API\n",
        "lax.composite = composite"
      ],
      "metadata": {
        "id": "rsTcxW5Okkqu"
      },
      "execution_count": 2,
      "outputs": []
    },
    {
      "cell_type": "markdown",
      "source": [
        "# Example 1: Composite `my.gelu`"
      ],
      "metadata": {
        "id": "jJvdP0odMjyA"
      }
    },
    {
      "cell_type": "code",
      "source": [
        "import jax.numpy as jnp\n",
        "import numpy as np\n",
        "from jax._src.lax.special import erf\n",
        "from jax._src import dtypes\n",
        "\n",
        "\n",
        "def my_gelu(x):\n",
        "  def my_gelu_impl(x):\n",
        "    return jnp.array(x * (erf(x / np.sqrt(2)) + 1) / 2)\n",
        "\n",
        "  return lax.composite(x, name=\"my.gelu\", decomposition=my_gelu_impl)\n",
        "\n",
        "\n",
        "@jax.jit\n",
        "def module():\n",
        "  x = jnp.array(1.0, dtype=jnp.float32)\n",
        "  return my_gelu(x)\n",
        "\n",
        "\n",
        "# JAX eval:\n",
        "print(\"JAX Eval:\", module())\n",
        "\n",
        "\n",
        "# Get StableHLO export (using internal API):\n",
        "mlir_module = module.lower()._lowering.stablehlo()\n",
        "print(_inline_ir(mlir_module))"
      ],
      "metadata": {
        "colab": {
          "base_uri": "https://localhost:8080/"
        },
        "id": "CbcTvQU5MfVl",
        "outputId": "92c5d37b-8e60-4e3a-87c0-9fe98a064e47"
      },
      "execution_count": 3,
      "outputs": [
        {
          "output_type": "stream",
          "name": "stdout",
          "text": [
            "JAX Eval: 0.8413447\n",
            "module @jit_module attributes {mhlo.num_partitions = 1 : i32, mhlo.num_replicas = 1 : i32} {\n",
            "  func.func public @main() -> (tensor<f32> {jax.result_info = \"\", mhlo.layout_mode = \"default\"}) {\n",
            "    %cst = stablehlo.constant dense<1.000000e+00> : tensor<f32>\n",
            "    %0 = call @my.gelu.impl(%cst) : (tensor<f32>) -> tensor<f32>\n",
            "    %1 = stablehlo.composite \"my.gelu\" %cst {decomposition = @my.gelu.impl} : (tensor<f32>) -> tensor<f32>\n",
            "    return %1 : tensor<f32>\n",
            "  }\n",
            "  func.func private @my.gelu.impl(%arg0: tensor<f32>) -> tensor<f32> {\n",
            "    %cst = stablehlo.constant dense<2.000000e+00> : tensor<f32>\n",
            "    %cst_0 = stablehlo.constant dense<1.000000e+00> : tensor<f32>\n",
            "    %cst_1 = stablehlo.constant dense<1.41421354> : tensor<f32>\n",
            "    %0 = stablehlo.divide %arg0, %cst_1 : tensor<f32>\n",
            "    %1 = chlo.erf %0 : tensor<f32> -> tensor<f32>\n",
            "    %2 = stablehlo.add %1, %cst_0 : tensor<f32>\n",
            "    %3 = stablehlo.multiply %arg0, %2 : tensor<f32>\n",
            "    %4 = stablehlo.divide %3, %cst : tensor<f32>\n",
            "    return %4 : tensor<f32>\n",
            "  }\n",
            "}\n",
            "\n"
          ]
        }
      ]
    },
    {
      "cell_type": "markdown",
      "source": [
        "# Example 2: Composite `my.acos`"
      ],
      "metadata": {
        "id": "ubsfwILFk2MR"
      }
    },
    {
      "cell_type": "code",
      "source": [
        "def my_acos(x):\n",
        "  return lax.composite(x, name=\"my.acos\", attributes={}, decomposition=jnp.acos)\n",
        "\n",
        "\n",
        "@jax.jit\n",
        "def module():\n",
        "  x = jnp.array(1.0, dtype=jnp.float32)\n",
        "  return my_acos(x)\n",
        "\n",
        "\n",
        "# JAX eval:\n",
        "print(\"JAX Eval:\", module())\n",
        "\n",
        "# Get StableHLO export (using internal API):\n",
        "mlir_module = module.lower()._lowering.stablehlo()\n",
        "print(_inline_ir(mlir_module))"
      ],
      "metadata": {
        "id": "2kpCjN8Bk5gX",
        "outputId": "d80c0827-92ca-4afa-abea-fdb5f5f877cf",
        "colab": {
          "base_uri": "https://localhost:8080/"
        }
      },
      "execution_count": 4,
      "outputs": [
        {
          "output_type": "stream",
          "name": "stdout",
          "text": [
            "JAX Eval: 0.0\n",
            "module @jit_module attributes {mhlo.num_partitions = 1 : i32, mhlo.num_replicas = 1 : i32} {\n",
            "  func.func public @main() -> (tensor<f32> {jax.result_info = \"\", mhlo.layout_mode = \"default\"}) {\n",
            "    %cst = stablehlo.constant dense<1.000000e+00> : tensor<f32>\n",
            "    %0 = call @my.acos.impl(%cst) : (tensor<f32>) -> tensor<f32>\n",
            "    %1 = stablehlo.composite \"my.acos\" %cst {decomposition = @my.acos.impl} : (tensor<f32>) -> tensor<f32>\n",
            "    return %1 : tensor<f32>\n",
            "  }\n",
            "  func.func private @my.acos.impl(%arg0: tensor<f32>) -> tensor<f32> {\n",
            "    %cst = stablehlo.constant dense<3.14159274> : tensor<f32>\n",
            "    %cst_0 = stablehlo.constant dense<2.000000e+00> : tensor<f32>\n",
            "    %cst_1 = stablehlo.constant dense<1.000000e+00> : tensor<f32>\n",
            "    %cst_2 = stablehlo.constant dense<-1.000000e+00> : tensor<f32>\n",
            "    %0 = stablehlo.compare  NE, %arg0, %cst_2,  FLOAT : (tensor<f32>, tensor<f32>) -> tensor<i1>\n",
            "    %1 = stablehlo.multiply %arg0, %arg0 : tensor<f32>\n",
            "    %2 = stablehlo.subtract %cst_1, %1 : tensor<f32>\n",
            "    %3 = stablehlo.sqrt %2 : tensor<f32>\n",
            "    %4 = stablehlo.add %cst_1, %arg0 : tensor<f32>\n",
            "    %5 = stablehlo.atan2 %3, %4 : tensor<f32>\n",
            "    %6 = stablehlo.multiply %cst_0, %5 : tensor<f32>\n",
            "    %7 = stablehlo.select %0, %6, %cst : tensor<i1>, tensor<f32>\n",
            "    return %7 : tensor<f32>\n",
            "  }\n",
            "}\n",
            "\n"
          ]
        }
      ]
    },
    {
      "cell_type": "markdown",
      "source": [
        "# (Not recommended) Composite `my.acos` using internal APIs for `grad`/`vmap`"
      ],
      "metadata": {
        "id": "7krZJw7O2NPd"
      }
    },
    {
      "cell_type": "code",
      "source": [
        "# @title Hidden\n",
        "%%capture\n",
        "import jax\n",
        "import jax.numpy as jnp\n",
        "\n",
        "from absl.testing import absltest\n",
        "from jax._src import test_util as jtu\n",
        "from jax._src.lax import lax\n",
        "from jax._src.lib.mlir import ir\n",
        "from jax._src.lib.mlir.dialects import hlo as stablehlo\n",
        "from jax._src.typing import ArrayLike, Array\n",
        "from jax.interpreters import mlir\n",
        "\n",
        "'''\n",
        "Disclaimer:\n",
        "\n",
        "This should NOT be used in production. Only proceed should you need to\n",
        "experiment with composites while the official API is WIP.\n",
        "'''\n",
        "\n",
        "# Step 1: Define a jax primitive.\n",
        "my_acos_p = lax.standard_unop(lax._float | lax._complex, \"my_acos\")\n",
        "\n",
        "\n",
        "# Step 2: Define a jax api.\n",
        "def my_acos(x: ArrayLike) -> Array:\n",
        "  return my_acos_p.bind(x)\n",
        "\n",
        "\n",
        "# Step 3 (Optional): Define auto diff rule if you need gradient.\n",
        "lax.ad.defjvp(\n",
        "    my_acos_p,\n",
        "    lambda g, x: lax.mul(g, -lax.rsqrt(lax._const(x, 1) - lax.square(x))),\n",
        ")\n",
        "\n",
        "\n",
        "# Step 4: Define lowering to stablehlo.composite.\n",
        "def _composite_acos_lowering(\n",
        "    ctx: mlir.LoweringRuleContext, arg: mlir.ir.BlockArgument\n",
        ") -> mlir.ir.OpResultList:\n",
        "\n",
        "  @jax.jit\n",
        "  def my_acos_impl(x: ArrayLike) -> Array:\n",
        "    return jnp.acos(x)\n",
        "\n",
        "  # TODO: this implementation leaks a CallOp.\n",
        "  lowered_fun = mlir.lower_fun(my_acos_impl, multiple_results=False)\n",
        "  call_op = lowered_fun(ctx, arg)[0].owner\n",
        "\n",
        "  composite = stablehlo.CompositeOp(\n",
        "      [result.type for result in call_op.results],\n",
        "      call_op.operands,\n",
        "      name=ir.StringAttr.get(\"chlo.acos\"),\n",
        "      composite_attributes=ir.DictAttr.get({}),\n",
        "      decomposition=call_op.attributes[\"callee\"],\n",
        "  )\n",
        "  return composite.results\n",
        "\n",
        "\n",
        "# Step 5: Register your custom composite lowering to stablehlo.composite.\n",
        "mlir.register_lowering(my_acos_p, _composite_acos_lowering)\n",
        "\n",
        "\n",
        "# Step 6: Print module\n",
        "@jax.jit\n",
        "def myMain():\n",
        "  x = jnp.array(1.0, dtype=jnp.float32)\n",
        "  return my_acos(x)\n",
        "\n",
        "mlir_module = myMain.lower()._lowering.stablehlo()\n",
        "print(_inline_ir(mlir_module))"
      ],
      "metadata": {
        "id": "UfMDmmFnNK9O",
        "cellView": "form"
      },
      "execution_count": 5,
      "outputs": []
    },
    {
      "cell_type": "markdown",
      "source": [
        "# Print module using JAX Export API"
      ],
      "metadata": {
        "id": "C8osb97u4mgx"
      }
    },
    {
      "cell_type": "code",
      "source": [
        "# @title Hidden\n",
        "%%capture\n",
        "\n",
        "# Hack to mimic LAX API\n",
        "lax.composite = composite\n",
        "\n",
        "from jax import export as jax_export\n",
        "\n",
        "# Official export API\n",
        "x = jnp.array(1.0, dtype=jnp.float32)\n",
        "\n",
        "@jax.jit\n",
        "def myMain():\n",
        "  return my_acos(x)\n",
        "\n",
        "print(\"Ref impl:\", jnp.acos(x))\n",
        "print(\"My impl:\", my_acos(x))\n",
        "\n",
        "mlir_module = jax_export.export(myMain)().mlir_module()\n",
        "print(mlir_module)\n",
        "\n",
        "\n",
        "@jax.jit\n",
        "def myMain():\n",
        "  x = jnp.array(1.0, dtype=jnp.float32)\n",
        "  return my_gelu(x)\n",
        "\n",
        "print(\"My impl:\", my_gelu(x))\n",
        "\n",
        "mlir_module = jax_export.export(myMain)().mlir_module()\n",
        "print(mlir_module)"
      ],
      "metadata": {
        "id": "BqjlQhac4MVJ",
        "cellView": "form"
      },
      "execution_count": 6,
      "outputs": []
    }
  ]
}