{
  "nbformat": 4,
  "nbformat_minor": 0,
  "metadata": {
    "colab": {
      "provenance": [],
      "authorship_tag": "ABX9TyOQ9hbOBp0hNJHatZm62VaR",
      "include_colab_link": true
    },
    "kernelspec": {
      "name": "python3",
      "display_name": "Python 3"
    },
    "language_info": {
      "name": "python"
    }
  },
  "cells": [
    {
      "cell_type": "markdown",
      "metadata": {
        "id": "view-in-github",
        "colab_type": "text"
      },
      "source": [
        "<a href=\"https://colab.research.google.com/github/ghpvnist/stablehlo/blob/tutorial/composite_e2e_tutorial.ipynb\" target=\"_parent\"><img src=\"https://colab.research.google.com/assets/colab-badge.svg\" alt=\"Open In Colab\"/></a>"
      ]
    },
    {
      "cell_type": "markdown",
      "source": [
        "# The StableHLO Composite Primitive"
      ],
      "metadata": {
        "id": "bFfI8dubMM9Q"
      }
    },
    {
      "cell_type": "code",
      "execution_count": null,
      "metadata": {
        "colab": {
          "base_uri": "https://localhost:8080/"
        },
        "id": "1Ep9hywYL4Ta",
        "outputId": "10326cd2-0063-4fd2-8096-3364c1905ad2"
      },
      "outputs": [
        {
          "output_type": "execute_result",
          "data": {
            "text/plain": [
              "<function __main__._composite_stablehlo_lowering(ctx, *args, name, call_jaxpr, attributes, **kwargs)>"
            ],
            "text/html": [
              "<div style=\"max-width:800px; border: 1px solid var(--colab-border-color);\"><style>\n",
              "      pre.function-repr-contents {\n",
              "        overflow-x: auto;\n",
              "        padding: 8px 12px;\n",
              "        max-height: 500px;\n",
              "      }\n",
              "\n",
              "      pre.function-repr-contents.function-repr-contents-collapsed {\n",
              "        cursor: pointer;\n",
              "        max-height: 100px;\n",
              "      }\n",
              "    </style>\n",
              "    <pre style=\"white-space: initial; background:\n",
              "         var(--colab-secondary-surface-color); padding: 8px 12px;\n",
              "         border-bottom: 1px solid var(--colab-border-color);\"><b>_composite_stablehlo_lowering</b><br/>def _composite_stablehlo_lowering(ctx, *args, name, call_jaxpr, attributes, **kwargs)</pre><pre class=\"function-repr-contents function-repr-contents-collapsed\" style=\"\"><a class=\"filepath\" style=\"display:none\" href=\"#\">/content/&lt;ipython-input-4-936c46b1a108&gt;</a>&lt;no docstring&gt;</pre></div>"
            ]
          },
          "metadata": {},
          "execution_count": 4
        }
      ],
      "source": [
        "import jax\n",
        "from jax import api_util\n",
        "from jax import tree_util\n",
        "from jax._src import core as jax_core\n",
        "from jax._src import linear_util as lu\n",
        "from jax._src.lib.mlir.dialects import hlo\n",
        "from jax._src.lib.mlir import ir\n",
        "from jax._src.lib.mlir import passmanager as pm\n",
        "from jax.interpreters import mlir\n",
        "\n",
        "\n",
        "composite_p = jax_core.CallPrimitive('composite')\n",
        "def _composite_impl(f, *args, **_):\n",
        "  with jax_core.new_sublevel():\n",
        "    return f.call_wrapped(*args)\n",
        "composite_p.def_impl(_composite_impl)\n",
        "\n",
        "\n",
        "def call_composite(f, *args, name: str, attributes: dict = {}, **kwargs):\n",
        "  fun = lu.wrap_init(f, kwargs)\n",
        "  flat_args, in_tree = tree_util.tree_flatten(args)\n",
        "  flat_fun, out_tree = api_util.flatten_fun_nokwargs(fun, in_tree)\n",
        "  out_flat = composite_p.bind(\n",
        "      flat_fun,\n",
        "      *flat_args,\n",
        "      name=name,\n",
        "      attributes=attributes)\n",
        "  return tree_util.tree_unflatten(out_tree(), out_flat)\n",
        "\n",
        "# Make custom_call which calls the implementation function\n",
        "# Currently this leaks a CallOp since we're using the `core_call_lowering`\n",
        "# function, but this should get cleaned up by DCE easily.\n",
        "def _composite_stablehlo_lowering(ctx, *args, name, call_jaxpr, attributes, **kwargs):\n",
        "  impl = mlir.core_call_lowering(\n",
        "      ctx,\n",
        "      *args,\n",
        "      name=name+\".impl\",\n",
        "      call_jaxpr=call_jaxpr)\n",
        "  print(impl)\n",
        "  call_op = impl[0][0].owner\n",
        "  called_fn = call_op.attributes['callee']\n",
        "\n",
        "  composite = hlo.CompositeOp(\n",
        "    [r.type for r in call_op.results],\n",
        "    call_op.operands,\n",
        "    name=ir.StringAttr.get(name),\n",
        "    composite_attributes=ir.DictAttr.get(attributes),\n",
        "    decomposition=called_fn,\n",
        "  )\n",
        "  return composite.results\n",
        "\n",
        "## Helper function to inline module to get rid of all the extra function calls.\n",
        "## Not necessary, but makes it easier to view the composite's IR.\n",
        "def _inline_ir(m_original: ir.Module) -> bytes:\n",
        "  with m_original.context:\n",
        "    m = m_original.operation.clone()\n",
        "    passes = pm.PassManager.parse(\"builtin.module(inline)\")\n",
        "    passes.run(m.operation)\n",
        "    return m\n",
        "\n",
        "mlir.register_lowering(composite_p, _composite_stablehlo_lowering)"
      ]
    },
    {
      "cell_type": "markdown",
      "source": [
        "# Create composite calls"
      ],
      "metadata": {
        "id": "feV4hsihW3V8"
      }
    },
    {
      "cell_type": "code",
      "source": [
        "import numpy as np\n",
        "\n",
        "def mySquared(x):\n",
        "  return x * x\n",
        "\n",
        "def myMain():\n",
        "  return call_composite(mySquared, 2, name=\"my.squared\")\n",
        "\n",
        "print(\"Value from jaxpr eval:\", myMain())\n",
        "\n",
        "# DO NOT ATTEMPT TO EVALUATE THIS JITTED FUNCTION\n",
        "# Since the backend doesn't handle these custom calls yet\n",
        "# this will cause a crash during eval on \"unknown custom call target 'stablehlo.composite'\"\n",
        "# Adding a pass in StableHLO which converts this custom call to CallOp would resolve.\n",
        "# mlir_module = jax.jit(myMain).lower()._lowering.stablehlo()\n",
        "# print(\"MLIR Module:\")\n",
        "# print(_inline_ir(mlir_module))"
      ],
      "metadata": {
        "colab": {
          "base_uri": "https://localhost:8080/"
        },
        "id": "ma3CqnBNMPrn",
        "outputId": "01714453-683b-4fb9-dffc-4cead119ac67"
      },
      "execution_count": null,
      "outputs": [
        {
          "output_type": "stream",
          "name": "stdout",
          "text": [
            "Value from jaxpr eval: 4\n"
          ]
        }
      ]
    },
    {
      "cell_type": "markdown",
      "source": [
        "# Syntactic Sugar"
      ],
      "metadata": {
        "id": "FNVSUaQWMa1S"
      }
    },
    {
      "cell_type": "code",
      "source": [
        "import functools\n",
        "\n",
        "def composite_decl(name):\n",
        "  def wrapper(f):\n",
        "    return functools.partial(call_composite, f, name=name)\n",
        "  return wrapper"
      ],
      "metadata": {
        "id": "l5Sqr3AoMWIE"
      },
      "execution_count": null,
      "outputs": []
    },
    {
      "cell_type": "markdown",
      "source": [
        "# Example 1: GELU Composite"
      ],
      "metadata": {
        "id": "jJvdP0odMjyA"
      }
    },
    {
      "cell_type": "code",
      "source": [
        "import jax.numpy as jnp\n",
        "from jax._src.lax import lax\n",
        "from jax._src import dtypes\n",
        "\n",
        "# GELU from JAX BERT implementation\n",
        "@composite_decl(\"my.gelu\")\n",
        "def gelu(x):\n",
        "  sqrt_2 = np.sqrt(2)\n",
        "  return jnp.array(x * (erf(x / sqrt_2) + 1) / 2)\n",
        "\n",
        "def myMain():\n",
        "  return gelu(np.ones([4], dtype=np.float32))\n",
        "\n",
        "# JAX eval:\n",
        "print(\"JAX Eval:\", myMain())\n",
        "\n",
        "# Get StableHLO export:\n",
        "# mlir_module = jax.jit(myMain).lower()._lowering.stablehlo()\n",
        "# print(\"MLIR Module:\")\n",
        "# print(_inline_ir(mlir_module))"
      ],
      "metadata": {
        "colab": {
          "base_uri": "https://localhost:8080/"
        },
        "id": "CbcTvQU5MfVl",
        "outputId": "182ee081-f8a7-4a3f-a4d5-c3c7dd198bf1"
      },
      "execution_count": null,
      "outputs": [
        {
          "output_type": "stream",
          "name": "stdout",
          "text": [
            "JAX Eval: [0.8413447 0.8413447 0.8413447 0.8413447]\n"
          ]
        }
      ]
    },
    {
      "cell_type": "code",
      "source": [
        "from functools import partial\n",
        "\n",
        "# from jax._src.lax import _nary_lower_hlo, _float, _complex, standard_unop\n",
        "from jax._src.typing import Array, ArrayLike\n",
        "\n",
        "my_acos_p = lax.standard_unop(lax._float | lax._complex, 'my_acos')\n",
        "\n",
        "def my_acos(x: ArrayLike) -> Array:\n",
        "  return my_acos_p.bind(x)\n",
        "\n",
        "mlir.register_lowering(my_acos_p, partial(lax._nary_lower_hlo, hlo.composite))"
      ],
      "metadata": {
        "id": "dGlMJxrBMoja",
        "colab": {
          "base_uri": "https://localhost:8080/"
        },
        "outputId": "7195324b-d624-4868-b369-5e5bd2fc6f81"
      },
      "execution_count": null,
      "outputs": [
        {
          "output_type": "execute_result",
          "data": {
            "text/plain": [
              "functools.partial(<function _nary_lower_hlo at 0x7ceef4364670>, <function composite at 0x7cef05840940>)"
            ]
          },
          "metadata": {},
          "execution_count": 27
        }
      ]
    },
    {
      "cell_type": "markdown",
      "source": [
        "# Composite Acos"
      ],
      "metadata": {
        "id": "7krZJw7O2NPd"
      }
    },
    {
      "cell_type": "code",
      "source": [
        "from absl.testing import absltest\n",
        "import jax\n",
        "from jax import export as jax_export\n",
        "from jax._src import test_util as jtu\n",
        "from jax._src.lax import lax\n",
        "from jax._src.lib.mlir import ir\n",
        "from jax._src.lib.mlir.dialects import hlo as stablehlo\n",
        "from jax.interpreters import mlir\n",
        "import jax.numpy as jnp\n",
        "from jax._src.typing import ArrayLike, Array\n",
        "\n",
        "# Step 1: Define a jax primitive.\n",
        "my_acos_p = lax.standard_unop(lax._float | lax._complex, \"my_acos\")\n",
        "\n",
        "\n",
        "# Step 2: Define a jax api.\n",
        "def my_acos(x: ArrayLike) -> Array:\n",
        "  return my_acos_p.bind(x)\n",
        "\n",
        "\n",
        "# Step 3: Define auto diff rule.\n",
        "lax.ad.defjvp(\n",
        "    my_acos_p,\n",
        "    lambda g, x: lax.mul(g, -lax.rsqrt(lax._const(x, 1) - lax.square(x))),\n",
        ")\n",
        "\n",
        "\n",
        "# Step 4: Define lowering to stablehlo.composite.\n",
        "def _composite_acos_lowering(\n",
        "    ctx: mlir.LoweringRuleContext, arg: mlir.ir.BlockArgument\n",
        ") -> mlir.ir.OpResultList:\n",
        "\n",
        "  @jax.jit\n",
        "  def my_acos_impl(x: ArrayLike) -> Array:\n",
        "    return jnp.acos(x)\n",
        "\n",
        "  # TODO(gunhyun): this implementation leaks a CallOp.\n",
        "  lowered_fun = mlir.lower_fun(my_acos_impl, multiple_results=False)\n",
        "  call_op = lowered_fun(ctx, arg)[0].owner\n",
        "\n",
        "  composite = stablehlo.CompositeOp(\n",
        "      [result.type for result in call_op.results],\n",
        "      call_op.operands,\n",
        "      name=ir.StringAttr.get(\"chlo.acos\"),\n",
        "      composite_attributes=ir.DictAttr.get({}),\n",
        "      decomposition=call_op.attributes[\"callee\"],\n",
        "  )\n",
        "  return composite.results\n",
        "\n",
        "\n",
        "# Step 5: Register your custom composite lowering to stablehlo.composite.\n",
        "mlir.register_lowering(my_acos_p, _composite_acos_lowering)"
      ],
      "metadata": {
        "id": "UfMDmmFnNK9O",
        "colab": {
          "base_uri": "https://localhost:8080/",
          "height": 121
        },
        "outputId": "65aeffe7-fd21-46d5-d4e4-3e073bda140d"
      },
      "execution_count": null,
      "outputs": [
        {
          "output_type": "execute_result",
          "data": {
            "text/plain": [
              "<function __main__._composite_acos_lowering(ctx: jax._src.interpreters.mlir.LoweringRuleContext, arg: jaxlib.mlir._mlir_libs._mlir.ir.BlockArgument) -> jaxlib.mlir._mlir_libs._mlir.ir.OpResultList>"
            ],
            "text/html": [
              "<div style=\"max-width:800px; border: 1px solid var(--colab-border-color);\"><style>\n",
              "      pre.function-repr-contents {\n",
              "        overflow-x: auto;\n",
              "        padding: 8px 12px;\n",
              "        max-height: 500px;\n",
              "      }\n",
              "\n",
              "      pre.function-repr-contents.function-repr-contents-collapsed {\n",
              "        cursor: pointer;\n",
              "        max-height: 100px;\n",
              "      }\n",
              "    </style>\n",
              "    <pre style=\"white-space: initial; background:\n",
              "         var(--colab-secondary-surface-color); padding: 8px 12px;\n",
              "         border-bottom: 1px solid var(--colab-border-color);\"><b>_composite_acos_lowering</b><br/>def _composite_acos_lowering(ctx: mlir.LoweringRuleContext, arg: mlir.ir.BlockArgument) -&gt; mlir.ir.OpResultList</pre><pre class=\"function-repr-contents function-repr-contents-collapsed\" style=\"\"><a class=\"filepath\" style=\"display:none\" href=\"#\">/content/&lt;ipython-input-35-7c9fd849e790&gt;</a>&lt;no docstring&gt;</pre></div>"
            ]
          },
          "metadata": {},
          "execution_count": 35
        }
      ]
    },
    {
      "cell_type": "code",
      "source": [
        "@jax.jit\n",
        "def f(x: ArrayLike) -> Array:\n",
        "  return my_acos(x)\n",
        "\n",
        "x = jnp.array(1.0, dtype=jnp.float32)\n",
        "\n",
        "print(jnp.acos(x), f(x))\n",
        "\n",
        "mlir_module = jax_export.export(f)(x).mlir_module()\n",
        "print(mlir_module)\n",
        "# self.assertIn('stablehlo.composite \"chlo.acos\"', mlir_module)"
      ],
      "metadata": {
        "colab": {
          "base_uri": "https://localhost:8080/"
        },
        "id": "Fon9avrt1sNE",
        "outputId": "b2ae5556-ab36-44f8-831f-ea5898e1267f"
      },
      "execution_count": null,
      "outputs": [
        {
          "output_type": "stream",
          "name": "stdout",
          "text": [
            "0.0 0.0\n",
            "#loc1 = loc(\"x\")\n",
            "#loc2 = loc(\"<ipython-input-35-7c9fd849e790>\":7:0)\n",
            "#loc3 = loc(\"<ipython-input-57-b5d2814a3f38>\":3:0)\n",
            "#loc4 = loc(\"<ipython-input-57-b5d2814a3f38>\":7:0)\n",
            "#loc5 = loc(\"/usr/local/lib/python3.10/dist-packages/IPython/core/interactiveshell.py\":3553:0)\n",
            "#loc6 = loc(\"/usr/local/lib/python3.10/dist-packages/IPython/core/interactiveshell.py\":3473:0)\n",
            "#loc7 = loc(\"/usr/local/lib/python3.10/dist-packages/IPython/core/interactiveshell.py\":3257:0)\n",
            "#loc8 = loc(\"/usr/local/lib/python3.10/dist-packages/IPython/core/async_helpers.py\":78:0)\n",
            "#loc9 = loc(\"/usr/local/lib/python3.10/dist-packages/IPython/core/interactiveshell.py\":3030:0)\n",
            "#loc10 = loc(\"/usr/local/lib/python3.10/dist-packages/IPython/core/interactiveshell.py\":2975:0)\n",
            "#loc11 = loc(\"/usr/local/lib/python3.10/dist-packages/ipykernel/zmqshell.py\":539:0)\n",
            "#loc12 = loc(\"my_acos\"(#loc2))\n",
            "#loc13 = loc(\"f\"(#loc3))\n",
            "#loc14 = loc(\"<cell line: 7>\"(#loc4))\n",
            "#loc15 = loc(\"run_code\"(#loc5))\n",
            "#loc16 = loc(\"run_ast_nodes\"(#loc6))\n",
            "#loc17 = loc(\"run_cell_async\"(#loc7))\n",
            "#loc18 = loc(\"_pseudo_sync_runner\"(#loc8))\n",
            "#loc19 = loc(\"_run_cell\"(#loc9))\n",
            "#loc20 = loc(\"run_cell\"(#loc10))\n",
            "#loc21 = loc(\"run_cell\"(#loc11))\n",
            "#loc22 = loc(callsite(#loc20 at #loc21))\n",
            "#loc23 = loc(callsite(#loc19 at #loc22))\n",
            "#loc24 = loc(callsite(#loc18 at #loc23))\n",
            "#loc25 = loc(callsite(#loc17 at #loc24))\n",
            "#loc26 = loc(callsite(#loc16 at #loc25))\n",
            "#loc27 = loc(callsite(#loc15 at #loc26))\n",
            "#loc28 = loc(callsite(#loc14 at #loc27))\n",
            "#loc29 = loc(callsite(#loc13 at #loc28))\n",
            "#loc30 = loc(callsite(#loc12 at #loc29))\n",
            "#loc31 = loc(\"jit(f)/jit(main)/pjit\"(#loc30))\n",
            "module @jit_f attributes {jax.uses_shape_polymorphism = false, mhlo.num_partitions = 1 : i32, mhlo.num_replicas = 1 : i32} {\n",
            "  func.func public @main(%arg0: tensor<f32> {mhlo.layout_mode = \"default\"} loc(\"x\")) -> (tensor<f32> {jax.result_info = \"\", mhlo.layout_mode = \"default\"}) {\n",
            "    %0 = call @my_acos_impl(%arg0) : (tensor<f32>) -> tensor<f32> loc(#loc31)\n",
            "    %1 = stablehlo.composite \"chlo.acos\" %arg0 {decomposition = @my_acos_impl} : (tensor<f32>) -> tensor<f32> loc(#loc32)\n",
            "    return %1 : tensor<f32> loc(#loc)\n",
            "  } loc(#loc)\n",
            "  func.func private @my_acos_impl(%arg0: tensor<f32> {mhlo.layout_mode = \"default\"} loc(\"jit(f)/jit(main)/pjit\"(#loc30))) -> (tensor<f32> {mhlo.layout_mode = \"default\"}) {\n",
            "    %cst = stablehlo.constant dense<-1.000000e+00> : tensor<f32> loc(#loc33)\n",
            "    %0 = stablehlo.compare  NE, %arg0, %cst,  FLOAT : (tensor<f32>, tensor<f32>) -> tensor<i1> loc(#loc34)\n",
            "    %1 = stablehlo.multiply %arg0, %arg0 : tensor<f32> loc(#loc35)\n",
            "    %cst_0 = stablehlo.constant dense<1.000000e+00> : tensor<f32> loc(#loc33)\n",
            "    %2 = stablehlo.subtract %cst_0, %1 : tensor<f32> loc(#loc36)\n",
            "    %3 = stablehlo.sqrt %2 : tensor<f32> loc(#loc37)\n",
            "    %cst_1 = stablehlo.constant dense<1.000000e+00> : tensor<f32> loc(#loc33)\n",
            "    %4 = stablehlo.add %cst_1, %arg0 : tensor<f32> loc(#loc38)\n",
            "    %5 = stablehlo.atan2 %3, %4 : tensor<f32> loc(#loc39)\n",
            "    %cst_2 = stablehlo.constant dense<2.000000e+00> : tensor<f32> loc(#loc33)\n",
            "    %6 = stablehlo.multiply %cst_2, %5 : tensor<f32> loc(#loc40)\n",
            "    %cst_3 = stablehlo.constant dense<3.14159274> : tensor<f32> loc(#loc33)\n",
            "    %7 = stablehlo.select %0, %6, %cst_3 : tensor<i1>, tensor<f32> loc(#loc41)\n",
            "    return %7 : tensor<f32> loc(#loc31)\n",
            "  } loc(#loc31)\n",
            "} loc(#loc)\n",
            "#loc = loc(unknown)\n",
            "#loc32 = loc(\"jit(f)/jit(main)/my_acos\"(#loc30))\n",
            "#loc33 = loc(\"jit(f)/jit(main)/jit(my_acos_impl)/acos\"(#loc30))\n",
            "#loc34 = loc(\"jit(f)/jit(main)/jit(my_acos_impl)/ne\"(#loc30))\n",
            "#loc35 = loc(\"jit(f)/jit(main)/jit(my_acos_impl)/integer_pow\"(#loc30))\n",
            "#loc36 = loc(\"jit(f)/jit(main)/jit(my_acos_impl)/sub\"(#loc30))\n",
            "#loc37 = loc(\"jit(f)/jit(main)/jit(my_acos_impl)/sqrt\"(#loc30))\n",
            "#loc38 = loc(\"jit(f)/jit(main)/jit(my_acos_impl)/add\"(#loc30))\n",
            "#loc39 = loc(\"jit(f)/jit(main)/jit(my_acos_impl)/atan2\"(#loc30))\n",
            "#loc40 = loc(\"jit(f)/jit(main)/jit(my_acos_impl)/mul\"(#loc30))\n",
            "#loc41 = loc(\"jit(f)/jit(main)/jit(my_acos_impl)/select_n\"(#loc30))\n",
            "\n"
          ]
        }
      ]
    },
    {
      "cell_type": "markdown",
      "source": [
        "# StableHLO Dump\n",
        "\n",
        "```\n",
        "module @jit_f attributes {\n",
        "  func.func public @main(%arg0: tensor<f32>) -> (tensor<f32>) {\n",
        "    %0 = stablehlo.composite \"chlo.acos\" %arg0 {decomposition = @my_acos_impl} : (tensor<f32>) -> tensor<f32>\n",
        "    return %0 : tensor<f32>\n",
        "  }\n",
        "  func.func private @my_acos_impl(%arg0: tensor<f32>) -> (tensor<f32>) {\n",
        "    %cst = stablehlo.constant dense<-1.000000e+00> : tensor<f32>\n",
        "    %0 = stablehlo.compare  NE, %arg0, %cst,  FLOAT : (tensor<f32>, tensor<f32>) -> tensor<i1>\n",
        "    %1 = stablehlo.multiply %arg0, %arg0 : tensor<f32>\n",
        "    %cst_0 = stablehlo.constant dense<1.000000e+00> : tensor<f32>\n",
        "    %2 = stablehlo.subtract %cst_0, %1 : tensor<f32>\n",
        "    %3 = stablehlo.sqrt %2 : tensor<f32>\n",
        "    %cst_1 = stablehlo.constant dense<1.000000e+00> : tensor<f32>\n",
        "    %4 = stablehlo.add %cst_1, %arg0 : tensor<f32>\n",
        "    %5 = stablehlo.atan2 %3, %4 : tensor<f32>\n",
        "    %cst_2 = stablehlo.constant dense<2.000000e+00> : tensor<f32>\n",
        "    %6 = stablehlo.multiply %cst_2, %5 : tensor<f32>\n",
        "    %cst_3 = stablehlo.constant dense<3.14159274> : tensor<f32>\n",
        "    %7 = stablehlo.select %0, %6, %cst_3 : tensor<i1>, tensor<f32>\n",
        "    return %7 : tensor<f32>\n",
        "  }\n",
        "}\n",
        "```"
      ],
      "metadata": {
        "id": "kt_PtB47_LaJ"
      }
    },
    {
      "cell_type": "markdown",
      "source": [
        "# HLO Dump\n",
        "\n",
        "```\n",
        "HloModule jit_f, entry_computation_layout={(f32[])->f32[]}\n",
        "\n",
        "%my_acos_impl.2 (Arg_0.3: f32[]) -> f32[] {\n",
        "  %Arg_0.3 = f32[] parameter(0)\n",
        "  %constant.4 = f32[] constant(-1)\n",
        "  %compare.5 = pred[] compare(f32[] %Arg_0.3, f32[] %constant.4), direction=NE\n",
        "  %constant.13 = f32[] constant(2)\n",
        "  %constant.7 = f32[] constant(1)\n",
        "  %multiply.6 = f32[] multiply(f32[] %Arg_0.3, f32[] %Arg_0.3)\n",
        "  %subtract.8 = f32[] subtract(f32[] %constant.7, f32[] %multiply.6)\n",
        "  %sqrt.9 = f32[] sqrt(f32[] %subtract.8)\n",
        "  %constant.10 = f32[] constant(1)\n",
        "  %add.11 = f32[] add(f32[] %constant.10, f32[] %Arg_0.3)\n",
        "  %atan2.12 = f32[] atan2(f32[] %sqrt.9, f32[] %add.11)\n",
        "  %multiply.14 = f32[] multiply(f32[] %constant.13, f32[] %atan2.12)\n",
        "  %constant.15 = f32[] constant(3.14159274)\n",
        "  ROOT %select.16 = f32[] select(pred[] %compare.5, f32[] %multiply.14, f32[] %constant.15)\n",
        "}\n",
        "\n",
        "%my_acos_impl.18 (Arg_0.19: f32[]) -> f32[] {\n",
        "  %Arg_0.19 = f32[] parameter(0)\n",
        "  %constant.20 = f32[] constant(-1)\n",
        "  %compare.21 = pred[] compare(f32[] %Arg_0.19, f32[] %constant.20), direction=NE\n",
        "  %constant.29 = f32[] constant(2)\n",
        "  %constant.23 = f32[] constant(1)\n",
        "  %multiply.22 = f32[] multiply(f32[] %Arg_0.19, f32[] %Arg_0.19)\n",
        "  %subtract.24 = f32[] subtract(f32[] %constant.23, f32[] %multiply.22)\n",
        "  %sqrt.25 = f32[] sqrt(f32[] %subtract.24)\n",
        "  %constant.26 = f32[] constant(1)\n",
        "  %add.27 = f32[] add(f32[] %constant.26, f32[] %Arg_0.19)\n",
        "  %atan2.28 = f32[] atan2(f32[] %sqrt.25, f32[] %add.27)\n",
        "  %multiply.30 = f32[] multiply(f32[] %constant.29, f32[] %atan2.28)\n",
        "  %constant.31 = f32[] constant(3.14159274)\n",
        "  ROOT %select.32 = f32[] select(pred[] %compare.21, f32[] %multiply.30, f32[] %constant.31)\n",
        "}\n",
        "\n",
        "ENTRY %main.34 (Arg_0.1: f32[]) -> f32[] {\n",
        "  %Arg_0.1 = f32[] parameter(0)\n",
        "  %call.17 = f32[] call(f32[] %Arg_0.1), to_apply=%my_acos_impl.2\n",
        "  ROOT %call.33 = f32[] call(f32[] %Arg_0.1), to_apply=%my_acos_impl.18, is_composite=true, frontend_attributes={composite.attributes={},composite.name=\"chlo.acos\",composite.version=\"0\"}\n",
        "}\n",
        "```"
      ],
      "metadata": {
        "id": "v3XgGjKX_LY3"
      }
    }
  ]
}